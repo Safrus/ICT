{
 "cells": [
  {
   "cell_type": "code",
   "execution_count": 1,
   "metadata": {},
   "outputs": [
    {
     "name": "stdout",
     "output_type": "stream",
     "text": [
      "RUSLAN SAFAROV\n",
      "APT.7\n",
      "77 ABAY ST.\n",
      "ALMATY CITY 050005\n"
     ]
    }
   ],
   "source": [
    "# Exercise1: Mailing Address\n",
    "\n",
    "print(\"RUSLAN SAFAROV\\nAPT.7\\n77 ABAY ST.\\nALMATY CITY 050005\")"
   ]
  },
  {
   "cell_type": "code",
   "execution_count": 2,
   "metadata": {},
   "outputs": [
    {
     "name": "stdout",
     "output_type": "stream",
     "text": [
      "Please, enter your name:Ruslan\n",
      "Hello, Ruslan\n"
     ]
    }
   ],
   "source": [
    "# Exercise2: Hello\n",
    "\n",
    "name = str(input(\"Please, enter your name:\"))\n",
    "print(\"Hello,\", name)"
   ]
  },
  {
   "cell_type": "code",
   "execution_count": 1,
   "metadata": {},
   "outputs": [
    {
     "name": "stdout",
     "output_type": "stream",
     "text": [
      "Please, enter the room width (meters):25\n",
      "Now, please, enter the room length (meters):4\n",
      "Area of your room is 100.0 meters.\n"
     ]
    }
   ],
   "source": [
    "# Exercise3: Area of a Room\n",
    "\n",
    "width = float(input(\"Please, enter the room width (meters):\"))\n",
    "length = float(input(\"Now, please, enter the room length (meters):\"))\n",
    "area = width * length\n",
    "print(\"Area of your room is\", area, \"meters.\")"
   ]
  },
  {
   "cell_type": "code",
   "execution_count": 2,
   "metadata": {},
   "outputs": [
    {
     "name": "stdout",
     "output_type": "stream",
     "text": [
      "Please, enter the field width (feet):5\n",
      "Now, please, enter the field length (feet):6\n",
      "Area of your field is 0.0006887052341597796 acre(s).\n"
     ]
    }
   ],
   "source": [
    "# Exercise4: Area of a Field\n",
    "\n",
    "width = float(input(\"Please, enter the field width (feet):\"))\n",
    "length = float(input(\"Now, please, enter the field length (feet):\"))\n",
    "acre_area = (width * length) / 43560\n",
    "print(\"Area of your field is\", acre_area, \"acre(s).\")"
   ]
  },
  {
   "cell_type": "code",
   "execution_count": 1,
   "metadata": {},
   "outputs": [
    {
     "name": "stdout",
     "output_type": "stream",
     "text": [
      "1 liter or less is $0.10\n",
      "More than 1 liter is $0.25\n",
      "\n",
      "1 liter or less:6\n",
      "More than 1 liter:10\n",
      "1 liter or less: $0.60 \n",
      "More than 1 liter: $2.50 \n",
      "\n",
      "Do you want to continue calculating?\n",
      "yes to continue(other to close)\n",
      "yeS\n",
      "Ok!\n",
      "\n",
      "1 liter or less:2\n",
      "More than 1 liter:10\n",
      "1 liter or less: $0.20 \n",
      "More than 1 liter: $2.50 \n",
      "\n",
      "Do you want to continue calculating?\n",
      "yes to continue(other to close)\n",
      "dfdsf\n"
     ]
    }
   ],
   "source": [
    "# Exercise5: Bottle Deposits\n",
    "\n",
    "print(\"1 liter or less is $0.10\\nMore than 1 liter is $0.25\\n\")\n",
    "\n",
    "while True :\n",
    "    small = int(input(\"1 liter or less:\"))\n",
    "    big = int(input(\"More than 1 liter:\"))\n",
    "    print(\"1 liter or less:\",\"${:.2f}\".format(small * 0.10),\"\\nMore than 1 liter:\",\"${:.2f}\".format(big * 0.25),\"\\n\")\n",
    "    print(\"Do you want to continue calculating?\\nyes to continue(other to close)\")\n",
    "    answer = str(input())\n",
    "    if answer.lower() == \"yes\":\n",
    "        print(\"Ok!\\n\")\n",
    "    else:\n",
    "        break\n",
    "    \n",
    "\n",
    "    "
   ]
  },
  {
   "cell_type": "code",
   "execution_count": 6,
   "metadata": {},
   "outputs": [
    {
     "name": "stdout",
     "output_type": "stream",
     "text": [
      "Enter your meal cost (tenge):250\n",
      "Tax: 30.00 tenge\n",
      "Tip: 45.00 tenge\n",
      "Grand Total: 325.00 tenge\n"
     ]
    }
   ],
   "source": [
    "# Exercise6: Tax and Tip\n",
    "\n",
    "meal_cost = float(input(\"Enter your meal cost (tenge):\"))\n",
    "tax = meal_cost * 0.12\n",
    "tip = meal_cost * 0.18\n",
    "grand_total = float(meal_cost + tax + tip)\n",
    "print(\"Tax:\", \"{:.2f}\".format(tax), \"tenge\\nTip:\",\"{:.2f}\".format(tip),\n",
    "      \"tenge\\nGrand Total:\",\"{:.2f}\".format(grand_total),\"tenge\")"
   ]
  },
  {
   "cell_type": "code",
   "execution_count": 11,
   "metadata": {},
   "outputs": [
    {
     "name": "stdout",
     "output_type": "stream",
     "text": [
      "Enter a positive number: 50\n",
      "The sum of the ﬁrst n positive integers: 1275\n"
     ]
    }
   ],
   "source": [
    "# Exercise7: Sum of the First n Positive Integers\n",
    "\n",
    "n = int(input(\"Enter a positive number: \"))\n",
    "sum_of_n = n * (n + 1) / 2\n",
    "print(\"The sum of the ﬁrst n positive integers:\", int(sum_of_n))"
   ]
  },
  {
   "cell_type": "code",
   "execution_count": 12,
   "metadata": {},
   "outputs": [
    {
     "name": "stdout",
     "output_type": "stream",
     "text": [
      "Enter number of widgets: 50\n",
      "Enter number of gizmos: 125\n",
      "Total widgets grams: 3750 \n",
      "Total gizmos grams: 14000\n"
     ]
    }
   ],
   "source": [
    "# Exercise8: Widgets and Gizmos\n",
    "\n",
    "widgets = int(input(\"Enter number of widgets: \"))\n",
    "gizmos = int(input(\"Enter number of gizmos: \"))\n",
    "w_grams = widgets * 75\n",
    "g_grams = gizmos * 112\n",
    "print(\"Total widgets grams:\", w_grams,\"\\nTotal gizmos grams:\", g_grams)"
   ]
  },
  {
   "cell_type": "code",
   "execution_count": 13,
   "metadata": {},
   "outputs": [
    {
     "name": "stdout",
     "output_type": "stream",
     "text": [
      "Enter your deposut: 50000\n",
      "After 1 year: 52000.00 \n",
      "After 2 year: 54080.00 \n",
      "After 3 year: 56243.20\n"
     ]
    }
   ],
   "source": [
    "# Exercise9: Compound Interest\n",
    "\n",
    "deposit = float(input(\"Enter your deposut: \"))\n",
    "first_year_deposit = deposit + (deposit * 0.04)\n",
    "second_year_deposit = first_year_deposit + (first_year_deposit * 0.04)\n",
    "third_year_deposit = second_year_deposit + (second_year_deposit * 0.04)\n",
    "print(\"After 1 year:\", \"{:.2f}\".format(first_year_deposit),\"\\nAfter 2 year:\",\n",
    "      \"{:.2f}\".format(second_year_deposit),\"\\nAfter 3 year:\", \"{:.2f}\".format(third_year_deposit))"
   ]
  },
  {
   "cell_type": "code",
   "execution_count": 17,
   "metadata": {},
   "outputs": [
    {
     "name": "stdout",
     "output_type": "stream",
     "text": [
      "First integer: 10\n",
      "Second integer: 5\n",
      "Sum: 15 \n",
      "Minus: 5 \n",
      "Product: 50 \n",
      "Quotient: 2.00 \n",
      "Remainder: 0.00 \n",
      "Logarithm: 1.00 \n",
      "Degree: 100000\n"
     ]
    }
   ],
   "source": [
    "# Exercise10: Arithmetic\n",
    "import math\n",
    "\n",
    "a = int(input(\"First integer: \"))\n",
    "b = int(input(\"Second integer: \"))\n",
    "sum = int(a + b)\n",
    "minus = int(a - b)\n",
    "product = int(a * b)\n",
    "quotient = float(a / b)\n",
    "remainder = float(a % b)\n",
    "logarithm = float(math.log10(a))\n",
    "degree = int(a ** b)\n",
    "print(\"Sum:\", sum, \"\\nMinus:\", minus, \"\\nProduct:\", product,\n",
    "      \"\\nQuotient:\", \"{:.2f}\".format(quotient), \"\\nRemainder:\", \"{:.2f}\".format(remainder),\n",
    "      \"\\nLogarithm:\", \"{:.2f}\".format(logarithm), \"\\nDegree:\", degree)"
   ]
  },
  {
   "cell_type": "code",
   "execution_count": 20,
   "metadata": {
    "scrolled": true
   },
   "outputs": [
    {
     "name": "stdout",
     "output_type": "stream",
     "text": [
      "Enter miles per gallon(MPG): 30\n",
      "Liters-per-hundred kilometers (L/100km): 7.84\n"
     ]
    }
   ],
   "source": [
    "# Exercise11: Fuel Efﬁciency\n",
    "\n",
    "mpg = float(input(\"Enter miles per gallon(MPG): \"))\n",
    "liter_per_hundred = 235.214583 / mpg\n",
    "print(\"Liters-per-hundred kilometers (L/100km):\", \"{:.2f}\".format(liter_per_hundred))"
   ]
  },
  {
   "cell_type": "code",
   "execution_count": 4,
   "metadata": {},
   "outputs": [
    {
     "name": "stdout",
     "output_type": "stream",
     "text": [
      "Enter first latitude: 42.3\n",
      "Enter first longitude: 69.6\n",
      "Enter second latitude: 43.2567\n",
      "Enter second longitude: 76.9286\n",
      "Distance between two points is 607.31 kilometres.\n"
     ]
    }
   ],
   "source": [
    "# Exercise12: Distance Between Two Points on Earth\n",
    "import math\n",
    "\n",
    "first_lat = float(input(\"Enter first latitude: \"))\n",
    "first_long = float(input(\"Enter first longitude: \"))\n",
    "second_lat = float(input(\"Enter second latitude: \"))\n",
    "second_long = float(input(\"Enter second longitude: \"))\n",
    "first_lat_rad = math.radians(first_lat)\n",
    "first_long_rad = math.radians(first_long)\n",
    "second_lat_rad = math.radians(second_lat)\n",
    "second_long_rad = math.radians(second_long)\n",
    "distance = 6371.01 * math.acos((math.sin(first_lat_rad) * math.sin(second_lat_rad))\n",
    "                            + (math.cos(first_lat_rad) * math.cos(second_lat_rad) * math.cos(first_long_rad - second_long_rad)))\n",
    "print(\"Distance between two points is\", \"{:.2f}\".format(distance), \"kilometres.\")"
   ]
  },
  {
   "cell_type": "code",
   "execution_count": 3,
   "metadata": {},
   "outputs": [
    {
     "name": "stdout",
     "output_type": "stream",
     "text": [
      "Enter amount of cents: 108\n",
      "0 toonies.\n",
      "1 loonies.\n",
      "0 quarters.\n",
      "0 dimes.\n",
      "1 nickels.\n",
      "3 pennies.\n"
     ]
    }
   ],
   "source": [
    "# Exercise13: Making Change\n",
    "\n",
    "cents = int(input(\"Enter amount of cents: \"))\n",
    "print(cents // 200, \"toonies.\")\n",
    "cents = cents % 200\n",
    "print(cents // 100, \"loonies.\")\n",
    "cents = cents % 100\n",
    "print(cents // 25, \"quarters.\")\n",
    "cents = cents % 25\n",
    "print(cents // 10, \"dimes.\")\n",
    "cents = cents % 10\n",
    "print(cents // 5, \"nickels.\")\n",
    "cents = cents % 5\n",
    "print(cents // 1, \"pennies.\")"
   ]
  },
  {
   "cell_type": "code",
   "execution_count": 15,
   "metadata": {},
   "outputs": [
    {
     "name": "stdout",
     "output_type": "stream",
     "text": [
      "Enter your feet: 4\n",
      "Enter your inches: 3.2\n",
      "Your height in centimeters is 130.05 centimeters.\n"
     ]
    }
   ],
   "source": [
    "# Exercise14: Height Units\n",
    "\n",
    "feet = float(input(\"Enter your feet: \"))\n",
    "inches = float(input(\"Enter your inches: \"))\n",
    "print(\"Your height in centimeters is\", \"{:.2f}\".format((feet * 30.48) + (inches * 2.54)), \"centimeters.\")"
   ]
  },
  {
   "cell_type": "code",
   "execution_count": 22,
   "metadata": {},
   "outputs": [
    {
     "name": "stdout",
     "output_type": "stream",
     "text": [
      "Enter your feet: 5\n",
      "Feet in inches: 60.0 \n",
      "Feet in yards: 1.67 \n",
      "Feet in miles: 0.000947\n"
     ]
    }
   ],
   "source": [
    "# Exercise15: Distance Units\n",
    "\n",
    "feet = float(input(\"Enter your feet: \"))\n",
    "inches = float(feet * 12)\n",
    "yards = float(feet * 0.333333)\n",
    "miles = float(feet * 0.000189394)\n",
    "print(\"Feet in inches:\", inches, \"\\nFeet in yards:\", \"{:.2f}\".format(yards),\n",
    "      \"\\nFeet in miles:\", \"{:.6f}\".format(miles))"
   ]
  },
  {
   "cell_type": "code",
   "execution_count": 23,
   "metadata": {},
   "outputs": [
    {
     "name": "stdout",
     "output_type": "stream",
     "text": [
      "Enter a radius: 5\n",
      "Area of circle is: 78.54 \n",
      "Volume of sphere: 523.60\n"
     ]
    }
   ],
   "source": [
    "# Exercise16: Area and Volume\n",
    "import math\n",
    "\n",
    "radius = float(input(\"Enter a radius: \"))\n",
    "circle_area = float(math.pi * radius ** 2)\n",
    "sphere_volume = float((4 * math.pi * radius ** 3) / 3)\n",
    "print(\"Area of circle is:\", \"{:.2f}\".format(circle_area), \"\\nVolume of sphere:\", \"{:.2f}\".format(sphere_volume))"
   ]
  },
  {
   "cell_type": "code",
   "execution_count": 24,
   "metadata": {},
   "outputs": [
    {
     "name": "stdout",
     "output_type": "stream",
     "text": [
      "Enter water grams: 50\n",
      "Enter water temperature: 20\n",
      "Energy amount: 16744.00 Joules\n",
      "Electricity price to heat this grams of water for coffee: 0.04 cents\n"
     ]
    }
   ],
   "source": [
    "# Exercise17: Heat Capacity\n",
    "\n",
    "water_grams = float(input(\"Enter water grams: \"))\n",
    "temp = float(input(\"Enter water temperature: \"))\n",
    "energy_amount = float(water_grams * 4.186 * (100 - temp))\n",
    "kwh = float(energy_amount / 3600000)\n",
    "price = float(kwh * 8.9)\n",
    "print(\"Energy amount:\", \"{:.2f}\".format(energy_amount),\n",
    "      \"Joules\\nElectricity price to heat this grams of water for coffee:\", \"{:.2f}\".format(price), \"cents\")"
   ]
  },
  {
   "cell_type": "code",
   "execution_count": 25,
   "metadata": {},
   "outputs": [
    {
     "name": "stdout",
     "output_type": "stream",
     "text": [
      "Enter the radius of the cylinder: 4\n",
      "Enter the height of the cylinder: 12\n",
      "Volume of cylinder: 603.2\n"
     ]
    }
   ],
   "source": [
    "# Exercise18: Volume of a Cylinder\n",
    "import math\n",
    "\n",
    "radius = float(input(\"Enter the radius of the cylinder: \"))\n",
    "height = float(input(\"Enter the height of the cylinder: \"))\n",
    "cylinder_volume = float(math.pi * radius ** 2 * height)\n",
    "print(\"Volume of cylinder:\", \"{:.1f}\".format(cylinder_volume))"
   ]
  },
  {
   "cell_type": "code",
   "execution_count": 5,
   "metadata": {},
   "outputs": [
    {
     "name": "stdout",
     "output_type": "stream",
     "text": [
      "Enter the height in meters(m): 27\n",
      "Final speed is 23.00 m/s.\n"
     ]
    }
   ],
   "source": [
    "# Exercise19: Free Fall\n",
    "import math\n",
    "\n",
    "height = float(input(\"Enter the height in meters(m): \"))\n",
    "final_speed = float(math.sqrt(2 * 9.8 * height))\n",
    "print(\"Final speed is\", \"{:.2f}\".format(final_speed), \"m/s.\")"
   ]
  },
  {
   "cell_type": "code",
   "execution_count": 10,
   "metadata": {},
   "outputs": [
    {
     "name": "stdout",
     "output_type": "stream",
     "text": [
      "Enter the pressure in Pascals: 20000000\n",
      "Enter the volume in Liters: 12\n",
      "Enter the temperature in Celsium: 20\n",
      "Amount of moles: 98.47\n"
     ]
    }
   ],
   "source": [
    "# Exercise20: Ideal Gas Law\n",
    "import math\n",
    "\n",
    "pressure = float(input(\"Enter the pressure in Pascals: \"))\n",
    "volume = float(input(\"Enter the volume in Liters: \"))\n",
    "temp = float(input(\"Enter the temperature in Celsium: \"))\n",
    "amount_of_moles = (pressure * volume * 0.001) / (8.314 * (273.15 + temp))\n",
    "print(\"Amount of moles:\", \"{:.2f}\".format(amount_of_moles))"
   ]
  },
  {
   "cell_type": "code",
   "execution_count": 16,
   "metadata": {},
   "outputs": [
    {
     "name": "stdout",
     "output_type": "stream",
     "text": [
      "Enter the length of the base: 12\n",
      "Enter the height: 5\n",
      "Area of a triangle: 30.00\n"
     ]
    }
   ],
   "source": [
    "# Exercise21: Area of a Triangle\n",
    "\n",
    "b = float(input(\"Enter the length of the base: \"))\n",
    "h = float(input(\"Enter the height: \"))\n",
    "area = b * h / 2\n",
    "print(\"Area of a triangle:\", \"{:.2f}\".format(area))"
   ]
  },
  {
   "cell_type": "code",
   "execution_count": 24,
   "metadata": {},
   "outputs": [
    {
     "name": "stdout",
     "output_type": "stream",
     "text": [
      "Enter the length of 1 side: 5\n",
      "Enter the length of 2 side: 6\n",
      "Enter the length of 3 side: 7\n",
      "Area of a triangle: 14.70\n"
     ]
    }
   ],
   "source": [
    "# Exercise22: Area of a Triangle (Again)\n",
    "import math\n",
    "\n",
    "s1 = float(input(\"Enter the length of 1 side: \"))\n",
    "s2 = float(input(\"Enter the length of 2 side: \"))\n",
    "s3 = float(input(\"Enter the length of 3 side: \"))\n",
    "s = (s1 + s2 + s3) / 2\n",
    "area = math.sqrt(s * (s - s1) * (s - s2) * (s - s3))\n",
    "print(\"Area of a triangle:\", \"{:.2f}\".format(area))"
   ]
  },
  {
   "cell_type": "code",
   "execution_count": 25,
   "metadata": {},
   "outputs": [
    {
     "name": "stdout",
     "output_type": "stream",
     "text": [
      "Enter the length of a side: 7\n",
      "Enter the amount of sides: 5\n",
      "Area of a regular polygon: 84.30\n"
     ]
    }
   ],
   "source": [
    "# Exercise23: Area of a Regular Polygon\n",
    "import math\n",
    "\n",
    "s = float(input(\"Enter the length of a side: \"))\n",
    "n = float(input(\"Enter the amount of sides: \"))\n",
    "area = (n * s ** 2) / (4 * math.tan(math.pi / n))\n",
    "print(\"Area of a regular polygon:\", \"{:.2f}\".format(area))"
   ]
  },
  {
   "cell_type": "code",
   "execution_count": 26,
   "metadata": {},
   "outputs": [
    {
     "name": "stdout",
     "output_type": "stream",
     "text": [
      "Enter number of days: 8\n",
      "Enter number of hours: 9\n",
      "Enter number of minutes: 120\n",
      "Enter number of seconds: 2200\n",
      "Total seconds: 733000\n"
     ]
    }
   ],
   "source": [
    "# Exercise24: Units of Time\n",
    "\n",
    "days = int(input(\"Enter number of days: \"))\n",
    "hours = int(input(\"Enter number of hours: \"))\n",
    "minutes = int(input(\"Enter number of minutes: \"))\n",
    "seconds = int(input(\"Enter number of seconds: \"))\n",
    "print(\"Total seconds:\", ((days * 86400) + (hours * 3600) + (minutes * 60) + seconds))"
   ]
  },
  {
   "cell_type": "code",
   "execution_count": 28,
   "metadata": {},
   "outputs": [
    {
     "name": "stdout",
     "output_type": "stream",
     "text": [
      "Enter number of seconds: 3612\n",
      "Result: 0:01:00:12\n"
     ]
    }
   ],
   "source": [
    "# Exercise25: Units of Time (Again)\n",
    "\n",
    "seconds = int(input(\"Enter number of seconds: \"))\n",
    "days = seconds / 86400\n",
    "seconds = seconds % 86400\n",
    "hours = seconds / 3600\n",
    "seconds = seconds % 3600\n",
    "minutes = seconds / 60\n",
    "seconds = seconds % 60\n",
    "print(\"Result:\", \"%d:%02d:%02d:%02d\"%(days,hours,minutes,seconds))"
   ]
  },
  {
   "cell_type": "code",
   "execution_count": 29,
   "metadata": {},
   "outputs": [
    {
     "name": "stdout",
     "output_type": "stream",
     "text": [
      "2020-09-09 14:03:14\n",
      "09/09/2020\n",
      "02:03:14 PM\n",
      "Wed, Sep 09, 2020\n"
     ]
    }
   ],
   "source": [
    "# Exercise26: Current Time\n",
    "import datetime\n",
    "\n",
    "now = datetime.datetime.now()\n",
    "print (now.strftime(\"%Y-%m-%d %H:%M:%S\"))\n",
    "print (now.strftime(\"%d/%m/%Y\"))\n",
    "print (now.strftime(\"%I:%M:%S %p\"))\n",
    "print (now.strftime(\"%a, %b %d, %Y\"))"
   ]
  },
  {
   "cell_type": "code",
   "execution_count": 31,
   "metadata": {},
   "outputs": [
    {
     "name": "stdout",
     "output_type": "stream",
     "text": [
      "Enter your weight(kg): 70\n",
      "Enter your height(cm): 172\n",
      "Your body mass index (BMI) is: 0.0023661\n"
     ]
    }
   ],
   "source": [
    "# Exercise27: Body Mass Index\n",
    "\n",
    "w = float(input(\"Enter your weight(kg): \"))\n",
    "h = float(input(\"Enter your height(cm): \"))\n",
    "bmi = w / (h ** 2)\n",
    "print(\"Your body mass index (BMI) is:\", \"{:.7f}\".format(bmi))"
   ]
  },
  {
   "cell_type": "code",
   "execution_count": 1,
   "metadata": {
    "scrolled": true
   },
   "outputs": [
    {
     "name": "stdout",
     "output_type": "stream",
     "text": [
      "Enter temperature in Celsium: -15\n",
      "Enter wind speed in Km/H: 36\n",
      "Wind chill index: -27.0\n"
     ]
    }
   ],
   "source": [
    "# Exercise28: Wind Chill\n",
    "\n",
    "temp = float(input(\"Enter temperature in Celsium: \"))\n",
    "speed = float(input(\"Enter wind speed in Km/H: \"))\n",
    "wci = 13.12 + 0.6215 * temp - 11.37 * speed ** 0.16 + 0.3965 * temp * speed ** 0.16\n",
    "print(\"Wind chill index:\", float(round(wci)))"
   ]
  },
  {
   "cell_type": "code",
   "execution_count": 3,
   "metadata": {},
   "outputs": [
    {
     "name": "stdout",
     "output_type": "stream",
     "text": [
      "Enter a temperature in Celsium: -56\n",
      "Fahrenheit: -68.80 \n",
      "Kelvin: 217.15\n"
     ]
    }
   ],
   "source": [
    "# Exercise29: Celsius to Fahrenheit and Kelvin\n",
    "\n",
    "celsium = float(input(\"Enter a temperature in Celsium: \"))\n",
    "fahrenheit = ((celsium * 9) / 5) + 32\n",
    "kelvin = celsium + 273.15\n",
    "print(\"Fahrenheit:\", \"{:.2f}\".format(fahrenheit), \"\\nKelvin:\", \"{:.2f}\".format(kelvin))"
   ]
  },
  {
   "cell_type": "code",
   "execution_count": 4,
   "metadata": {},
   "outputs": [
    {
     "name": "stdout",
     "output_type": "stream",
     "text": [
      "Enter pressure in kPa: 200\n",
      "Pounds per square inch: 29.01 \n",
      "Millimeters of mercury: 1500.12 \n",
      "Atmospheres: 1.97\n"
     ]
    }
   ],
   "source": [
    "# Exercise30: Units of Pressure\n",
    "\n",
    "kilo_pascales = float(input(\"Enter pressure in kPa: \"))\n",
    "psi = kilo_pascales * 0.14504\n",
    "mm_Hg = kilo_pascales * 7.5006\n",
    "atm = kilo_pascales * 0.0098692\n",
    "print(\"Pounds per square inch:\", \"{:.2f}\".format(psi), \"\\nMillimeters of mercury:\",\n",
    "      \"{:.2f}\".format(mm_Hg), \"\\nAtmospheres:\", \"{:.2f}\".format(atm))\n"
   ]
  },
  {
   "cell_type": "code",
   "execution_count": 5,
   "metadata": {},
   "outputs": [
    {
     "name": "stdout",
     "output_type": "stream",
     "text": [
      "Enter an integer: 32432\n",
      "Result: 14\n"
     ]
    }
   ],
   "source": [
    "# Exercise31: Sum of the Digits in an Integer\n",
    "\n",
    "four_digits = int(input(\"Enter an integer: \"))\n",
    "count = len(str(four_digits))\n",
    "result = 0\n",
    "for i in range(count):\n",
    "    result = result + (four_digits % 10)\n",
    "    four_digits = four_digits // 10\n",
    "print(\"Result:\", result)"
   ]
  },
  {
   "cell_type": "code",
   "execution_count": 16,
   "metadata": {},
   "outputs": [
    {
     "name": "stdout",
     "output_type": "stream",
     "text": [
      "Enter a first integer: 3\n",
      "Enter a second integer: 6\n",
      "Enter a third integer: 2\n",
      "Sorted: 2 3 6\n"
     ]
    }
   ],
   "source": [
    "# Exercise32: Sort 3 Integers\n",
    "\n",
    "first = int(input(\"Enter a first integer: \"))\n",
    "second = int(input(\"Enter a second integer: \"))\n",
    "third = int(input(\"Enter a third integer: \"))\n",
    "minimum = min(first, second, third)\n",
    "maximum = max(first, second, third)\n",
    "middle = (first + second + third) - (minimum + maximum)\n",
    "print(\"Sorted:\", minimum, middle, maximum)"
   ]
  },
  {
   "cell_type": "code",
   "execution_count": 4,
   "metadata": {},
   "outputs": [
    {
     "name": "stdout",
     "output_type": "stream",
     "text": [
      "Enter number of loaves: 2\n",
      "Loaves without discount: $6.98 \n",
      "Loaves with discount: $2.79 \n",
      "Discount: $4.19\n"
     ]
    }
   ],
   "source": [
    "# Exercise33: Day Old Bread\n",
    "\n",
    "loaves = int(input(\"Enter number of loaves: \"))\n",
    "without_discount = loaves * 3.49\n",
    "with_discount = loaves * 1.396\n",
    "discount = without_discount - with_discount\n",
    "print(\"Loaves without discount:\", \"${:.2f}\".format(without_discount),\n",
    "      \"\\nLoaves with discount:\", \"${:.2f}\".format(with_discount),\n",
    "     \"\\nDiscount:\", \"${:.2f}\".format(discount))"
   ]
  }
 ],
 "metadata": {
  "kernelspec": {
   "display_name": "Python 3",
   "language": "python",
   "name": "python3"
  },
  "language_info": {
   "codemirror_mode": {
    "name": "ipython",
    "version": 3
   },
   "file_extension": ".py",
   "mimetype": "text/x-python",
   "name": "python",
   "nbconvert_exporter": "python",
   "pygments_lexer": "ipython3",
   "version": "3.7.4"
  }
 },
 "nbformat": 4,
 "nbformat_minor": 2
}
